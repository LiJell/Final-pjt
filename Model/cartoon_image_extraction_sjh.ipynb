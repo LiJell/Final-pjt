{
 "cells": [
  {
   "cell_type": "code",
   "execution_count": 5,
   "id": "b17ca3eb",
   "metadata": {
    "ExecuteTime": {
     "end_time": "2022-04-11T09:43:25.843001Z",
     "start_time": "2022-04-11T09:43:18.431997Z"
    }
   },
   "outputs": [],
   "source": [
    "import cv2\n",
    "\n",
    "cap = cv2.VideoCapture('C:/Users/user/Downloads/underdog.mp4') \n",
    "# 웹 캠이 여러개 일경우 0 대신 다른 숫자를 입력해 사용할 캠 선택\n",
    "# 숫자 대신 파일 경로를 입력할 경우, 해당 동영상 파일이 읽어짐\n",
    "count = 0\n",
    "if not cap.isOpened():\n",
    "    print('video capture failed')\n",
    "    sys.exit()\n",
    "    \n",
    "while True:\n",
    "    \n",
    "    ret, frame = cap.read()\n",
    "    \n",
    "    if not ret:\n",
    "        print('videos read failed')\n",
    "        break\n",
    "    resize_frame = cv2.resize(frame, (1920//3,1080//3))\n",
    "    cv2.imshow('video', resize_frame)\n",
    "    key = cv2.waitKey(10)\n",
    "    \n",
    "    if key==ord('s'): \n",
    "        cv2.imwrite(f'C:/Users/user/Downloads/underdog/{count}.jpg', frame)\n",
    "        count += 1\n",
    "        \n",
    "    elif key==ord('q'): \n",
    "        break\n",
    "    \n",
    "cap.release()\n",
    "cv2.destroyAllWindows()"
   ]
  }
 ],
 "metadata": {
  "kernelspec": {
   "display_name": "Python 3 (ipykernel)",
   "language": "python",
   "name": "python3"
  },
  "language_info": {
   "codemirror_mode": {
    "name": "ipython",
    "version": 3
   },
   "file_extension": ".py",
   "mimetype": "text/x-python",
   "name": "python",
   "nbconvert_exporter": "python",
   "pygments_lexer": "ipython3",
   "version": "3.9.7"
  },
  "latex_envs": {
   "LaTeX_envs_menu_present": true,
   "autoclose": false,
   "autocomplete": true,
   "bibliofile": "biblio.bib",
   "cite_by": "apalike",
   "current_citInitial": 1,
   "eqLabelWithNumbers": true,
   "eqNumInitial": 1,
   "hotkeys": {
    "equation": "Ctrl-E",
    "itemize": "Ctrl-I"
   },
   "labels_anchors": false,
   "latex_user_defs": false,
   "report_style_numbering": false,
   "user_envs_cfg": false
  },
  "toc": {
   "base_numbering": 1,
   "nav_menu": {},
   "number_sections": true,
   "sideBar": true,
   "skip_h1_title": false,
   "title_cell": "Table of Contents",
   "title_sidebar": "Contents",
   "toc_cell": false,
   "toc_position": {},
   "toc_section_display": true,
   "toc_window_display": false
  },
  "varInspector": {
   "cols": {
    "lenName": 16,
    "lenType": 16,
    "lenVar": 40
   },
   "kernels_config": {
    "python": {
     "delete_cmd_postfix": "",
     "delete_cmd_prefix": "del ",
     "library": "var_list.py",
     "varRefreshCmd": "print(var_dic_list())"
    },
    "r": {
     "delete_cmd_postfix": ") ",
     "delete_cmd_prefix": "rm(",
     "library": "var_list.r",
     "varRefreshCmd": "cat(var_dic_list()) "
    }
   },
   "types_to_exclude": [
    "module",
    "function",
    "builtin_function_or_method",
    "instance",
    "_Feature"
   ],
   "window_display": false
  }
 },
 "nbformat": 4,
 "nbformat_minor": 5
}
